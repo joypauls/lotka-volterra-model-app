{
 "metadata": {
  "language_info": {
   "codemirror_mode": {
    "name": "ipython",
    "version": 3
   },
   "file_extension": ".py",
   "mimetype": "text/x-python",
   "name": "python",
   "nbconvert_exporter": "python",
   "pygments_lexer": "ipython3",
   "version": 3
  },
  "orig_nbformat": 2
 },
 "nbformat": 4,
 "nbformat_minor": 2,
 "cells": [
  {
   "cell_type": "code",
   "execution_count": null,
   "metadata": {},
   "outputs": [],
   "source": [
    "import numpy as np\n",
    "import matplotlib.pyplot as plt\n",
    "from scipy.integrate import RK45"
   ]
  },
  {
   "source": [
    "$$\\frac{dx}{dt} = \\alpha x - \\beta xy$$\n",
    "$$\\frac{dy}{dt} = \\delta xy - \\gamma y$$"
   ],
   "cell_type": "markdown",
   "metadata": {}
  },
  {
   "cell_type": "code",
   "execution_count": null,
   "metadata": {},
   "outputs": [],
   "source": [
    "def _lotka_volterra(t, state, alpha, beta, delta, gamma):\n",
    "    # expecting 2-dim list\n",
    "    if len(state) != 2:\n",
    "        raise Exception(\"Expected 2-dimensional initial state: [x, y]\")\n",
    "    x = state[0]\n",
    "    y = state[1]\n",
    "    pass\n",
    "\n",
    "class LotkaVolterra():\n",
    "    \"\"\"\n",
    "    The basic Lotka-Volterra model.\n",
    "    \"\"\"\n",
    "    def __init__(self, alpha, beta, delta, gamma):\n",
    "        self.alpha = alpha\n",
    "        self.beta = beta\n",
    "        self.delta = delta\n",
    "        self.gamma = gamma\n",
    "\n",
    "    def solve(self, iterations):"
   ]
  },
  {
   "cell_type": "code",
   "execution_count": null,
   "metadata": {},
   "outputs": [],
   "source": []
  },
  {
   "cell_type": "code",
   "execution_count": null,
   "metadata": {},
   "outputs": [],
   "source": []
  }
 ]
}